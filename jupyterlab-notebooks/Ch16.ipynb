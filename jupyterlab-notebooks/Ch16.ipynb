{
 "cells": [
  {
   "cell_type": "markdown",
   "id": "830ebebe-1915-4577-b7be-f2f6895eacbf",
   "metadata": {},
   "source": [
    "## 파이썬 애플리케이션 작성하기"
   ]
  },
  {
   "cell_type": "code",
   "execution_count": 3,
   "id": "0e92df03-e422-4f97-bd0e-23e1f1176fb4",
   "metadata": {},
   "outputs": [
    {
     "name": "stdout",
     "output_type": "stream",
     "text": [
      "[Row(sum(id)=12372250)]\n"
     ]
    }
   ],
   "source": [
    "from __future__ import print_function\n",
    "\n",
    "if __name__ == \"__main__\":\n",
    "    from pyspark.sql import SparkSession\n",
    "\n",
    "    spark = (\n",
    "        SparkSession.builder.master(\"local\")\n",
    "        .appName(\"Word Count\")\n",
    "        .config(\"spark.some.config.option\", \"some-value\")\n",
    "        .getOrCreate()\n",
    "    )\n",
    "print(spark.range(5000).where(\"id > 500\").selectExpr(\"sum(id)\").collect())"
   ]
  },
  {
   "cell_type": "code",
   "execution_count": 1,
   "id": "ca1213e1-ed1d-4347-99c1-fc1fb4af1862",
   "metadata": {},
   "outputs": [
    {
     "name": "stdout",
     "output_type": "stream",
     "text": [
      "\u001b[0m\u001b[01;34mactivity-data\u001b[0m/              README.md\n",
      "\u001b[01;34mbike-data\u001b[0m/                  \u001b[01;34mregression\u001b[0m/\n",
      "\u001b[01;34mbinary-classification\u001b[0m/      \u001b[01;34mretail-data\u001b[0m/\n",
      "\u001b[01;34mclustering\u001b[0m/                 sample_libsvm_data.txt\n",
      "\u001b[01;34mdeep-learning-images\u001b[0m/       sample_movielens_ratings.txt\n",
      "\u001b[01;34mflight-data\u001b[0m/                \u001b[01;34msimple-ml\u001b[0m/\n",
      "\u001b[01;34mflight-data-hive\u001b[0m/           \u001b[01;34msimple-ml-integers\u001b[0m/\n",
      "\u001b[01;34mmulticlass-classification\u001b[0m/  \u001b[01;34msimple-ml-scaling\u001b[0m/\n"
     ]
    }
   ],
   "source": []
  },
  {
   "cell_type": "code",
   "execution_count": null,
   "id": "282d6f69-c917-4e5c-be1a-87f7080a8feb",
   "metadata": {},
   "outputs": [],
   "source": []
  }
 ],
 "metadata": {
  "kernelspec": {
   "display_name": "Python 3 (ipykernel)",
   "language": "python",
   "name": "python3"
  },
  "language_info": {
   "codemirror_mode": {
    "name": "ipython",
    "version": 3
   },
   "file_extension": ".py",
   "mimetype": "text/x-python",
   "name": "python",
   "nbconvert_exporter": "python",
   "pygments_lexer": "ipython3",
   "version": "3.10.12"
  }
 },
 "nbformat": 4,
 "nbformat_minor": 5
}
