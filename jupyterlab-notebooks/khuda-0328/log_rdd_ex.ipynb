{
 "cells": [
  {
   "cell_type": "code",
   "execution_count": 1,
   "id": "ce2832db-71a0-4e10-9034-9cfce3c06c96",
   "metadata": {},
   "outputs": [
    {
     "name": "stdout",
     "output_type": "stream",
     "text": [
      "Collecting findspark\n",
      "  Using cached findspark-2.0.1-py2.py3-none-any.whl.metadata (352 bytes)\n",
      "Using cached findspark-2.0.1-py2.py3-none-any.whl (4.4 kB)\n",
      "Installing collected packages: findspark\n",
      "Successfully installed findspark-2.0.1\n"
     ]
    }
   ],
   "source": [
    "!pip install findspark"
   ]
  },
  {
   "cell_type": "code",
   "execution_count": 2,
   "id": "2a5e0d88-4b2f-437f-87e2-1abecfd5cb0d",
   "metadata": {},
   "outputs": [],
   "source": [
    "from typing import List\n",
    "from datetime import datetime\n",
    "from pyspark import SparkContext, RDD\n",
    "from pyspark.sql import SparkSession\n",
    "import sys\n",
    "import pyspark\n",
    "import time\n",
    "import findspark\n",
    "findspark.init()"
   ]
  },
  {
   "cell_type": "code",
   "execution_count": 3,
   "id": "221ad292-a489-494d-ac0f-9f4e4c144e62",
   "metadata": {},
   "outputs": [],
   "source": [
    "sc = pyspark.SparkContext.getOrCreate()"
   ]
  },
  {
   "cell_type": "code",
   "execution_count": 4,
   "id": "b1a1ac7e-399b-4e73-aa06-3204e1726ce1",
   "metadata": {},
   "outputs": [
    {
     "data": {
      "text/plain": [
       "data/log.txt MapPartitionsRDD[1] at textFile at NativeMethodAccessorImpl.java:0"
      ]
     },
     "execution_count": 4,
     "metadata": {},
     "output_type": "execute_result"
    }
   ],
   "source": [
    "log_rdd = sc.textFile('data/log.txt')\n",
    "log_rdd"
   ]
  },
  {
   "cell_type": "code",
   "execution_count": 5,
   "id": "941ca65c-456e-4a27-b7a3-c1c3aacbda45",
   "metadata": {},
   "outputs": [
    {
     "data": {
      "text/plain": [
       "['192.217.41.39 | [25/Feb/2023:05:16:25] | \"PATCH /lists HTTP/1.1\" | 300',\n",
       " '199.211.153.193 | [25/Feb/2023:05:16:25] | \"PATCH /events HTTP/1.1\" | 404',\n",
       " '44.123.5.41 | [25/Feb/2023:05:16:25] | \"PATCH /playbooks HTTP/1.1\" | 301',\n",
       " '187.116.192.22 | [25/Feb/2023:05:16:25] | \"PUT /customers HTTP/1.1\" | 503',\n",
       " '95.233.74.58 | [25/Feb/2023:05:16:26] | \"POST /events HTTP/1.1\" | 503',\n",
       " '163.182.179.76 | [25/Feb/2023:05:16:26] | \"PATCH /customers HTTP/1.1\" | 500',\n",
       " '136.214.175.83 | [25/Feb/2023:05:16:27] | \"POST /alerts HTTP/1.1\" | 200',\n",
       " '148.87.176.94 | [25/Feb/2023:05:16:27] | \"PATCH /fieldsets HTTP/1.1\" | 500',\n",
       " '10.93.154.10 | [25/Feb/2023:05:16:27] | \"GET /alerts HTTP/1.1\" | 204',\n",
       " '38.32.236.30 | [25/Feb/2023:05:16:27] | \"PUT /lists HTTP/1.1\" | 204']"
      ]
     },
     "execution_count": 5,
     "metadata": {},
     "output_type": "execute_result"
    }
   ],
   "source": [
    "log_rdd.take(10)"
   ]
  },
  {
   "cell_type": "code",
   "execution_count": 6,
   "id": "41824e9e-0b19-473a-aacf-c0087fcbc0f6",
   "metadata": {},
   "outputs": [
    {
     "name": "stdout",
     "output_type": "stream",
     "text": [
      "count of RDD ==> 2060\n"
     ]
    }
   ],
   "source": [
    "# check count\n",
    "print(f\"count of RDD ==> {log_rdd.count()}\")"
   ]
  },
  {
   "cell_type": "code",
   "execution_count": 8,
   "id": "cc69aff1-28dc-4d91-a332-3a729c110f7f",
   "metadata": {},
   "outputs": [
    {
     "data": {
      "text/plain": [
       "[['192.217.41.39', '[25/Feb/2023:05:16:25]', '\"PATCH /lists HTTP/1.1\"', '300'],\n",
       " ['199.211.153.193',\n",
       "  '[25/Feb/2023:05:16:25]',\n",
       "  '\"PATCH /events HTTP/1.1\"',\n",
       "  '404'],\n",
       " ['44.123.5.41',\n",
       "  '[25/Feb/2023:05:16:25]',\n",
       "  '\"PATCH /playbooks HTTP/1.1\"',\n",
       "  '301'],\n",
       " ['187.116.192.22',\n",
       "  '[25/Feb/2023:05:16:25]',\n",
       "  '\"PUT /customers HTTP/1.1\"',\n",
       "  '503'],\n",
       " ['95.233.74.58', '[25/Feb/2023:05:16:26]', '\"POST /events HTTP/1.1\"', '503'],\n",
       " ['163.182.179.76',\n",
       "  '[25/Feb/2023:05:16:26]',\n",
       "  '\"PATCH /customers HTTP/1.1\"',\n",
       "  '500'],\n",
       " ['136.214.175.83',\n",
       "  '[25/Feb/2023:05:16:27]',\n",
       "  '\"POST /alerts HTTP/1.1\"',\n",
       "  '200'],\n",
       " ['148.87.176.94',\n",
       "  '[25/Feb/2023:05:16:27]',\n",
       "  '\"PATCH /fieldsets HTTP/1.1\"',\n",
       "  '500'],\n",
       " ['10.93.154.10', '[25/Feb/2023:05:16:27]', '\"GET /alerts HTTP/1.1\"', '204'],\n",
       " ['38.32.236.30', '[25/Feb/2023:05:16:27]', '\"PUT /lists HTTP/1.1\"', '204']]"
      ]
     },
     "execution_count": 8,
     "metadata": {},
     "output_type": "execute_result"
    }
   ],
   "source": [
    "# a) map\n",
    "# a-1) log.txt 의 각 행을 List[str] 형태로 받아오기.\n",
    "def parse_line(row: str):\n",
    "    return row.strip().split(\" | \")\n",
    "\n",
    "parsed_log_rdd = log_rdd.map(parse_line)\n",
    "parsed_log_rdd.take(10)"
   ]
  },
  {
   "cell_type": "code",
   "execution_count": 9,
   "id": "f9bb0895-a4b6-4b43-bdb4-be868a4d0236",
   "metadata": {},
   "outputs": [
    {
     "data": {
      "text/plain": [
       "[['199.211.153.193',\n",
       "  '[25/Feb/2023:05:16:25]',\n",
       "  '\"PATCH /events HTTP/1.1\"',\n",
       "  '404'],\n",
       " ['173.43.141.206',\n",
       "  '[25/Feb/2023:05:16:30]',\n",
       "  '\"POST /collectors HTTP/1.1\"',\n",
       "  '404'],\n",
       " ['37.40.113.2', '[25/Feb/2023:05:16:26]', '\"PATCH /alerts HTTP/1.1\"', '404'],\n",
       " ['13.10.183.239', '[25/Feb/2023:05:16:28]', '\"POST /users HTTP/1.1\"', '404'],\n",
       " ['183.235.75.252',\n",
       "  '[25/Feb/2023:05:16:30]',\n",
       "  '\"GET /collectors HTTP/1.1\"',\n",
       "  '404']]"
      ]
     },
     "execution_count": 9,
     "metadata": {},
     "output_type": "execute_result"
    }
   ],
   "source": [
    "# b) filter\n",
    "# b-1) status code가 404인 log만 필터링.\n",
    "def get_only_404(row: List[str]):\n",
    "    status_code = row[3]\n",
    "    return status_code == '404'\n",
    "\n",
    "rdd_404 = parsed_log_rdd.filter(get_only_404)\n",
    "rdd_404.take(5)"
   ]
  },
  {
   "cell_type": "code",
   "execution_count": 10,
   "id": "b7c5015d-6c23-44a3-8173-3e372996229b",
   "metadata": {},
   "outputs": [
    {
     "data": {
      "text/plain": [
       "[['136.214.175.83',\n",
       "  '[25/Feb/2023:05:16:27]',\n",
       "  '\"POST /alerts HTTP/1.1\"',\n",
       "  '200'],\n",
       " ['10.93.154.10', '[25/Feb/2023:05:16:27]', '\"GET /alerts HTTP/1.1\"', '204'],\n",
       " ['38.32.236.30', '[25/Feb/2023:05:16:27]', '\"PUT /lists HTTP/1.1\"', '204'],\n",
       " ['8.39.222.57',\n",
       "  '[25/Feb/2023:05:16:29]',\n",
       "  '\"DELETE /fieldsets HTTP/1.1\"',\n",
       "  '204'],\n",
       " ['160.194.15.244', '[25/Feb/2023:05:16:26]', '\"PUT /auth HTTP/1.1\"', '204']]"
      ]
     },
     "execution_count": 10,
     "metadata": {},
     "output_type": "execute_result"
    }
   ],
   "source": [
    "# b-2) status code가 정상인 경우(2xx)인 log만 필터링.\n",
    "def get_only_2xx(row: List[str]):\n",
    "        status_code = row[3]\n",
    "        return status_code.startswith(\"2\")\n",
    "\n",
    "rdd_normal = parsed_log_rdd.filter(get_only_2xx)\n",
    "rdd_normal.take(5)"
   ]
  },
  {
   "cell_type": "code",
   "execution_count": 11,
   "id": "4c04db26-fafa-4d70-98ea-feba30b51de9",
   "metadata": {},
   "outputs": [
    {
     "data": {
      "text/plain": [
       "[['117.3.196.239',\n",
       "  '[25/Feb/2023:05:16:27]',\n",
       "  '\"POST /playbooks HTTP/1.1\"',\n",
       "  '200'],\n",
       " ['173.214.123.108',\n",
       "  '[25/Feb/2023:05:16:38]',\n",
       "  '\"POST /playbooks HTTP/1.1\"',\n",
       "  '301'],\n",
       " ['36.8.178.226',\n",
       "  '[25/Feb/2023:05:16:37]',\n",
       "  '\"POST /playbooks HTTP/1.1\"',\n",
       "  '300'],\n",
       " ['46.58.250.211',\n",
       "  '[25/Feb/2023:05:16:38]',\n",
       "  '\"POST /playbooks HTTP/1.1\"',\n",
       "  '400'],\n",
       " ['70.52.162.100',\n",
       "  '[25/Feb/2023:05:16:40]',\n",
       "  '\"POST /playbooks HTTP/1.1\"',\n",
       "  '300']]"
      ]
     },
     "execution_count": 11,
     "metadata": {},
     "output_type": "execute_result"
    }
   ],
   "source": [
    "# b-3) post 요청이고 /playbooks api인 log만 필터링.\n",
    "def get_post_request_and_playbooks_api(row: List[str]):\n",
    "    log = row[2].replace(\"\\\"\", \"\")\n",
    "    return log.startswith(\"POST\") and \"/playbooks\" in log\n",
    "\n",
    "rdd_post_playbooks = parsed_log_rdd \\\n",
    "        .filter(get_post_request_and_playbooks_api)\n",
    "rdd_post_playbooks.take(5)"
   ]
  },
  {
   "cell_type": "code",
   "execution_count": 12,
   "id": "5bd8105c-8972-4f6e-a02f-2ab7a8c52cc8",
   "metadata": {},
   "outputs": [
    {
     "data": {
      "text/plain": [
       "[('DELETE', 425), ('GET', 398), ('PATCH', 422), ('POST', 402), ('PUT', 413)]"
      ]
     },
     "execution_count": 12,
     "metadata": {},
     "output_type": "execute_result"
    }
   ],
   "source": [
    "# c) reduce\n",
    "# c-1) API method (POST/GET/PUT/PATCH/DELETE) 별 개수 출력.\n",
    "def extract_api_method(row: List[str]):\n",
    "    api_log = row[2].replace(\"\\\"\", \"\")\n",
    "    api_method = api_log.split(\" \")[0]\n",
    "    return api_method, 1\n",
    "\n",
    "rdd_count_by_api_method = parsed_log_rdd.map(extract_api_method) \\\n",
    "    .reduceByKey(lambda c1, c2: c1 + c2) \\\n",
    "    .sortByKey()\n",
    "rdd_count_by_api_method.take(5)"
   ]
  },
  {
   "cell_type": "code",
   "execution_count": 13,
   "id": "a05d26e7-2499-4876-bbce-a47b29fa4f79",
   "metadata": {},
   "outputs": [
    {
     "data": {
      "text/plain": [
       "[('5:16', 790), ('5:17', 1270)]"
      ]
     },
     "execution_count": 13,
     "metadata": {},
     "output_type": "execute_result"
    }
   ],
   "source": [
    "# c-2) 분 단위 별 요청 횟수 출력.\n",
    "def extract_hour_and_minute(row: List[str]) -> tuple[str, int]:\n",
    "    timestamp = row[1].replace(\"[\", \"\").replace(\"]\", \"\")\n",
    "    date_format = \"%d/%b/%Y:%H:%M:%S\"\n",
    "    date_time_obj = datetime.strptime(timestamp, date_format)\n",
    "    return f\"{date_time_obj.hour}:{date_time_obj.minute}\", 1\n",
    "\n",
    "rdd_count_by_minute = parsed_log_rdd.map(extract_hour_and_minute) \\\n",
    "    .reduceByKey(lambda c1, c2: c1 + c2) \\\n",
    "    .sortByKey()\n",
    "rdd_count_by_minute.take(5)"
   ]
  },
  {
   "cell_type": "code",
   "execution_count": 14,
   "id": "ac97fa3e-c178-407e-8803-6940e5f68a4b",
   "metadata": {},
   "outputs": [],
   "source": [
    "# d) group by\n",
    "# d-1) status code, api method 별 ip 리스트 출력\n",
    "def extract_cols(row: List[str]) -> tuple[str, str, str]:\n",
    "    ip = row[0]\n",
    "    status_code = row[3]\n",
    "    api_log = row[2].replace(\"\\\"\", \"\")\n",
    "    api_method = api_log.split(\" \")[0]\n",
    "\n",
    "    return status_code, api_method, ip"
   ]
  },
  {
   "cell_type": "code",
   "execution_count": 17,
   "id": "191bfe6a-e360-4ba6-87b4-e5716978a95a",
   "metadata": {},
   "outputs": [
    {
     "data": {
      "text/plain": [
       "[(('404', 'PATCH'),\n",
       "  ['199.211.153.193',\n",
       "   '37.40.113.2',\n",
       "   '218.136.33.248',\n",
       "   '109.159.6.150',\n",
       "   '46.50.10.162',\n",
       "   '237.56.33.66',\n",
       "   '49.6.197.31',\n",
       "   '245.75.205.95',\n",
       "   '134.218.155.104',\n",
       "   '99.169.72.186',\n",
       "   '239.63.125.6',\n",
       "   '172.221.140.80',\n",
       "   '10.159.229.118',\n",
       "   '30.164.49.160',\n",
       "   '133.66.54.193',\n",
       "   '39.25.215.72',\n",
       "   '85.230.193.254',\n",
       "   '87.232.54.105',\n",
       "   '16.173.170.138',\n",
       "   '146.86.193.13',\n",
       "   '104.191.159.183',\n",
       "   '101.138.249.37',\n",
       "   '163.140.238.159',\n",
       "   '35.232.156.24',\n",
       "   '190.87.101.116',\n",
       "   '63.149.213.232',\n",
       "   '161.234.173.246',\n",
       "   '52.28.187.86',\n",
       "   '220.145.104.243',\n",
       "   '121.94.192.236',\n",
       "   '133.244.241.220',\n",
       "   '228.143.232.104',\n",
       "   '250.227.242.128',\n",
       "   '138.212.74.115']),\n",
       " (('301', 'PATCH'),\n",
       "  ['44.123.5.41',\n",
       "   '115.35.93.146',\n",
       "   '15.135.230.12',\n",
       "   '118.86.206.220',\n",
       "   '207.0.19.36',\n",
       "   '207.100.94.56',\n",
       "   '20.14.135.106',\n",
       "   '137.155.111.167',\n",
       "   '112.145.249.114',\n",
       "   '141.225.137.101',\n",
       "   '225.172.207.59',\n",
       "   '29.144.114.89',\n",
       "   '229.148.230.141',\n",
       "   '45.50.116.140',\n",
       "   '135.195.168.99',\n",
       "   '92.138.89.242',\n",
       "   '172.132.209.13',\n",
       "   '228.40.131.85',\n",
       "   '73.186.215.104',\n",
       "   '254.233.67.54',\n",
       "   '29.21.198.142',\n",
       "   '173.68.11.178',\n",
       "   '96.40.23.0',\n",
       "   '201.245.245.117',\n",
       "   '254.160.51.235',\n",
       "   '206.44.72.188',\n",
       "   '68.210.43.82',\n",
       "   '15.99.193.196',\n",
       "   '46.71.196.0',\n",
       "   '105.142.118.66',\n",
       "   '12.251.215.131',\n",
       "   '201.172.226.99',\n",
       "   '140.239.9.175',\n",
       "   '255.30.183.103',\n",
       "   '55.95.40.124',\n",
       "   '189.31.229.135',\n",
       "   '51.236.167.125',\n",
       "   '146.34.205.19',\n",
       "   '80.20.16.188',\n",
       "   '154.62.119.12']),\n",
       " (('503', 'POST'),\n",
       "  ['95.233.74.58',\n",
       "   '93.72.120.206',\n",
       "   '141.180.215.48',\n",
       "   '22.171.221.130',\n",
       "   '94.228.109.115',\n",
       "   '138.167.16.218',\n",
       "   '210.87.144.125',\n",
       "   '126.91.209.113',\n",
       "   '206.51.209.71',\n",
       "   '90.61.188.97',\n",
       "   '61.164.224.27',\n",
       "   '222.237.36.139',\n",
       "   '155.161.213.137',\n",
       "   '159.134.135.59',\n",
       "   '137.20.101.181',\n",
       "   '143.138.223.189',\n",
       "   '151.112.244.71',\n",
       "   '98.74.40.253',\n",
       "   '79.226.118.190',\n",
       "   '2.115.117.92',\n",
       "   '149.172.45.192',\n",
       "   '114.174.165.75',\n",
       "   '181.12.214.128',\n",
       "   '123.156.244.125',\n",
       "   '130.114.6.192',\n",
       "   '66.93.215.120',\n",
       "   '91.57.125.145',\n",
       "   '225.171.96.106',\n",
       "   '219.74.196.170',\n",
       "   '244.25.40.62',\n",
       "   '242.155.221.206',\n",
       "   '36.128.167.32',\n",
       "   '143.89.145.137',\n",
       "   '88.58.158.121',\n",
       "   '76.249.63.10',\n",
       "   '226.19.2.122',\n",
       "   '131.5.27.194',\n",
       "   '225.136.163.189']),\n",
       " (('500', 'PATCH'),\n",
       "  ['163.182.179.76',\n",
       "   '148.87.176.94',\n",
       "   '106.84.18.55',\n",
       "   '250.12.139.234',\n",
       "   '170.91.4.153',\n",
       "   '0.144.168.95',\n",
       "   '104.29.118.69',\n",
       "   '24.63.231.3',\n",
       "   '21.165.196.181',\n",
       "   '117.194.98.125',\n",
       "   '46.75.254.218',\n",
       "   '12.168.235.201',\n",
       "   '126.86.99.96',\n",
       "   '248.168.101.189',\n",
       "   '211.43.109.242',\n",
       "   '134.130.137.108',\n",
       "   '235.226.218.71',\n",
       "   '236.207.43.200',\n",
       "   '176.82.243.54',\n",
       "   '112.113.198.213',\n",
       "   '250.124.97.253',\n",
       "   '192.6.229.87',\n",
       "   '43.238.222.43',\n",
       "   '89.6.114.113',\n",
       "   '173.92.208.192',\n",
       "   '192.152.4.159',\n",
       "   '221.159.131.72',\n",
       "   '45.139.192.176',\n",
       "   '7.110.82.162',\n",
       "   '66.206.84.79',\n",
       "   '3.24.184.86',\n",
       "   '200.178.83.43',\n",
       "   '174.36.227.137',\n",
       "   '117.52.125.201']),\n",
       " (('204', 'GET'),\n",
       "  ['10.93.154.10',\n",
       "   '49.20.177.225',\n",
       "   '227.32.242.188',\n",
       "   '250.73.134.255',\n",
       "   '247.88.165.161',\n",
       "   '143.111.160.213',\n",
       "   '56.34.160.233',\n",
       "   '50.121.14.196',\n",
       "   '26.95.86.99',\n",
       "   '32.245.230.140',\n",
       "   '85.244.106.162',\n",
       "   '82.124.73.242',\n",
       "   '131.195.227.245',\n",
       "   '177.146.187.7',\n",
       "   '135.48.148.31',\n",
       "   '114.36.38.132',\n",
       "   '198.236.42.240',\n",
       "   '129.203.105.2',\n",
       "   '35.87.12.24',\n",
       "   '63.46.254.93',\n",
       "   '197.242.55.128',\n",
       "   '91.7.185.4',\n",
       "   '34.165.17.229',\n",
       "   '110.164.239.113',\n",
       "   '11.215.65.189',\n",
       "   '163.135.11.197',\n",
       "   '24.151.205.96',\n",
       "   '22.225.141.176',\n",
       "   '9.27.65.143',\n",
       "   '216.57.75.53',\n",
       "   '67.73.218.70',\n",
       "   '53.64.97.194'])]"
      ]
     },
     "execution_count": 17,
     "metadata": {},
     "output_type": "execute_result"
    }
   ],
   "source": [
    "# reduceByKey 사용\n",
    "parsed_log_rdd.map(extract_cols)\\\n",
    "    .map(lambda x: ((x[0], x[1]), x[2]))\\\n",
    "    .reduceByKey(lambda i1, i2: f\"{i1},{i2}\") \\\n",
    "    .map(lambda row: (row[0], row[1].split(\",\"))) \\\n",
    "    .take(5)\n",
    "\n",
    "# groupby 사용\n",
    "# parsed_log_rdd.map(extract_cols) \\\n",
    "#     .map(lambda x: ((x[0], x[1]), x[2])) \\\n",
    "#     .groupByKey().mapValues(list)  \n",
    "# 큰 데이터 셋에서 groupByKey를 하는 것은 성능적으로 좋지 않음."
   ]
  }
 ],
 "metadata": {
  "kernelspec": {
   "display_name": "Python 3 (ipykernel)",
   "language": "python",
   "name": "python3"
  },
  "language_info": {
   "codemirror_mode": {
    "name": "ipython",
    "version": 3
   },
   "file_extension": ".py",
   "mimetype": "text/x-python",
   "name": "python",
   "nbconvert_exporter": "python",
   "pygments_lexer": "ipython3",
   "version": "3.11.6"
  }
 },
 "nbformat": 4,
 "nbformat_minor": 5
}
