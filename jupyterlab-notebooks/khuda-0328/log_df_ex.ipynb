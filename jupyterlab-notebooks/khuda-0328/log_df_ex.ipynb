{
 "cells": [
  {
   "cell_type": "code",
   "execution_count": 1,
   "id": "3ac82da1-8657-4d64-ab4e-cfec56e5e606",
   "metadata": {},
   "outputs": [],
   "source": [
    "from pyspark.sql import SparkSession\n",
    "from pyspark.sql.types import *\n",
    "from pyspark.sql.functions \\\n",
    "    import col, to_timestamp, max, min, mean, date_trunc, collect_set, \\\n",
    "    hour, minute, count"
   ]
  },
  {
   "cell_type": "code",
   "execution_count": 2,
   "id": "de7e9604-e78f-4ebf-b428-96381dfd407b",
   "metadata": {},
   "outputs": [],
   "source": [
    "ss = SparkSession.builder \\\n",
    "        .master(\"local\") \\\n",
    "        .appName(\"log dataframe ex\") \\\n",
    "        .getOrCreate()"
   ]
  },
  {
   "cell_type": "code",
   "execution_count": 3,
   "id": "09727f68-5268-4407-8e3c-ad4d2482e4b8",
   "metadata": {},
   "outputs": [],
   "source": [
    "# 스키마 정의\n",
    "fields = StructType([\n",
    "        StructField(\"ip\", StringType(), False),\n",
    "        StructField(\"timestamp\", StringType(), False),\n",
    "        StructField(\"method\", StringType(), False),\n",
    "        StructField(\"endpoint\", StringType(), False),\n",
    "        StructField(\"status_code\", StringType(), False),\n",
    "        StructField(\"latency\", IntegerType(), False),  # 단위 : milliseconds\n",
    "    ])\n",
    "df = ss.read.schema(fields).csv(\"data/log.csv\")"
   ]
  },
  {
   "cell_type": "code",
   "execution_count": 4,
   "id": "36a7d3fc-34e9-4b10-9b69-2e898f119256",
   "metadata": {},
   "outputs": [
    {
     "name": "stdout",
     "output_type": "stream",
     "text": [
      "+---------------+-------------------+------+-----------+-----------+-------+\n",
      "|             ip|          timestamp|method|   endpoint|status_code|latency|\n",
      "+---------------+-------------------+------+-----------+-----------+-------+\n",
      "| 130.31.184.234|2023-02-26 04:15:21| PATCH|     /users|        400|     61|\n",
      "|  212.228.86.35|2023-02-26 04:15:21| PATCH| /customers|        400|     66|\n",
      "|  28.252.170.12|2023-02-26 04:15:21|   GET|    /events|        401|     73|\n",
      "|   180.97.92.48|2023-02-26 04:15:22| PATCH|   /parsers|        503|     17|\n",
      "|   73.218.61.17|2023-02-26 04:15:22|   GET|     /lists|        201|     91|\n",
      "|   24.15.193.50|2023-02-26 04:15:23|   PUT|      /auth|        400|     24|\n",
      "|  31.181.214.70|2023-02-26 04:15:23| PATCH|      /auth|        404|     17|\n",
      "| 192.175.62.126|2023-02-26 04:15:23|   GET| /playbooks|        201|     45|\n",
      "|  50.78.180.190|2023-02-26 04:15:23|DELETE|    /events|        403|     65|\n",
      "|151.183.175.203|2023-02-26 04:15:23|DELETE| /playbooks|        400|     99|\n",
      "|  176.91.81.136|2023-02-26 04:15:23|DELETE| /customers|        300|     98|\n",
      "|    74.65.110.7|2023-02-26 04:15:24|DELETE| /customers|        401|     56|\n",
      "| 59.204.139.101|2023-02-26 04:15:25|   PUT|/collectors|        404|     57|\n",
      "| 161.247.160.76|2023-02-26 04:15:25|   PUT|    /events|        500|     39|\n",
      "| 197.89.231.222|2023-02-26 04:15:25|   GET|     /users|        401|     82|\n",
      "|   77.129.55.48|2023-02-26 04:15:26|  POST| /customers|        403|     24|\n",
      "|  21.86.250.149|2023-02-26 04:15:26|   GET| /playbooks|        400|     43|\n",
      "|150.153.245.113|2023-02-26 04:15:26|   GET|     /lists|        301|     46|\n",
      "|   90.87.227.59|2023-02-26 04:15:26|   PUT| /customers|        301|     58|\n",
      "| 97.226.151.252|2023-02-26 04:15:26|  POST|    /events|        201|     86|\n",
      "+---------------+-------------------+------+-----------+-----------+-------+\n",
      "only showing top 20 rows\n",
      "\n"
     ]
    }
   ],
   "source": [
    "# 데이터 확인\n",
    "df.show()"
   ]
  },
  {
   "cell_type": "code",
   "execution_count": 5,
   "id": "b608cd11-8cb7-4415-9e1d-2ccb6a7a52e7",
   "metadata": {},
   "outputs": [
    {
     "name": "stdout",
     "output_type": "stream",
     "text": [
      "root\n",
      " |-- ip: string (nullable = true)\n",
      " |-- timestamp: string (nullable = true)\n",
      " |-- method: string (nullable = true)\n",
      " |-- endpoint: string (nullable = true)\n",
      " |-- status_code: string (nullable = true)\n",
      " |-- latency: integer (nullable = true)\n",
      "\n"
     ]
    }
   ],
   "source": [
    "df.printSchema()"
   ]
  },
  {
   "cell_type": "code",
   "execution_count": 6,
   "id": "e1f58d0f-9dd8-4204-b095-566b4b2bca29",
   "metadata": {},
   "outputs": [],
   "source": [
    "# a) 컬럼 변환\n",
    "# a-1) 현재 latency 컬럼의 단위는 millseconds인데, seconds 단위인\n",
    "# latency_seconds 컬럼을 새로 만들기.\n",
    "def milliseconds_to_seconds(num):\n",
    "    return num / 1000"
   ]
  },
  {
   "cell_type": "code",
   "execution_count": 10,
   "id": "ffa90b2a-ab87-4836-9f00-96eb38a7bbc7",
   "metadata": {},
   "outputs": [
    {
     "data": {
      "text/html": [
       "<div>\n",
       "<style scoped>\n",
       "    .dataframe tbody tr th:only-of-type {\n",
       "        vertical-align: middle;\n",
       "    }\n",
       "\n",
       "    .dataframe tbody tr th {\n",
       "        vertical-align: top;\n",
       "    }\n",
       "\n",
       "    .dataframe thead th {\n",
       "        text-align: right;\n",
       "    }\n",
       "</style>\n",
       "<table border=\"1\" class=\"dataframe\">\n",
       "  <thead>\n",
       "    <tr style=\"text-align: right;\">\n",
       "      <th></th>\n",
       "      <th>ip</th>\n",
       "      <th>timestamp</th>\n",
       "      <th>method</th>\n",
       "      <th>endpoint</th>\n",
       "      <th>status_code</th>\n",
       "      <th>latency</th>\n",
       "      <th>latency_seconds</th>\n",
       "    </tr>\n",
       "  </thead>\n",
       "  <tbody>\n",
       "    <tr>\n",
       "      <th>0</th>\n",
       "      <td>130.31.184.234</td>\n",
       "      <td>2023-02-26 04:15:21</td>\n",
       "      <td>PATCH</td>\n",
       "      <td>/users</td>\n",
       "      <td>400</td>\n",
       "      <td>61</td>\n",
       "      <td>0.061</td>\n",
       "    </tr>\n",
       "    <tr>\n",
       "      <th>1</th>\n",
       "      <td>212.228.86.35</td>\n",
       "      <td>2023-02-26 04:15:21</td>\n",
       "      <td>PATCH</td>\n",
       "      <td>/customers</td>\n",
       "      <td>400</td>\n",
       "      <td>66</td>\n",
       "      <td>0.066</td>\n",
       "    </tr>\n",
       "    <tr>\n",
       "      <th>2</th>\n",
       "      <td>28.252.170.12</td>\n",
       "      <td>2023-02-26 04:15:21</td>\n",
       "      <td>GET</td>\n",
       "      <td>/events</td>\n",
       "      <td>401</td>\n",
       "      <td>73</td>\n",
       "      <td>0.073</td>\n",
       "    </tr>\n",
       "    <tr>\n",
       "      <th>3</th>\n",
       "      <td>180.97.92.48</td>\n",
       "      <td>2023-02-26 04:15:22</td>\n",
       "      <td>PATCH</td>\n",
       "      <td>/parsers</td>\n",
       "      <td>503</td>\n",
       "      <td>17</td>\n",
       "      <td>0.017</td>\n",
       "    </tr>\n",
       "    <tr>\n",
       "      <th>4</th>\n",
       "      <td>73.218.61.17</td>\n",
       "      <td>2023-02-26 04:15:22</td>\n",
       "      <td>GET</td>\n",
       "      <td>/lists</td>\n",
       "      <td>201</td>\n",
       "      <td>91</td>\n",
       "      <td>0.091</td>\n",
       "    </tr>\n",
       "  </tbody>\n",
       "</table>\n",
       "</div>"
      ],
      "text/plain": [
       "               ip            timestamp method    endpoint status_code  \\\n",
       "0  130.31.184.234  2023-02-26 04:15:21  PATCH      /users         400   \n",
       "1   212.228.86.35  2023-02-26 04:15:21  PATCH  /customers         400   \n",
       "2   28.252.170.12  2023-02-26 04:15:21    GET     /events         401   \n",
       "3    180.97.92.48  2023-02-26 04:15:22  PATCH    /parsers         503   \n",
       "4    73.218.61.17  2023-02-26 04:15:22    GET      /lists         201   \n",
       "\n",
       "   latency  latency_seconds  \n",
       "0       61            0.061  \n",
       "1       66            0.066  \n",
       "2       73            0.073  \n",
       "3       17            0.017  \n",
       "4       91            0.091  "
      ]
     },
     "execution_count": 10,
     "metadata": {},
     "output_type": "execute_result"
    }
   ],
   "source": [
    "df = df.withColumn(\n",
    "        \"latency_seconds\",\n",
    "        # milliseconds_to_seconds(col(\"latency\"))\n",
    "        milliseconds_to_seconds(df.latency))\n",
    "\n",
    "df.toPandas()[0:5]"
   ]
  },
  {
   "cell_type": "code",
   "execution_count": 10,
   "id": "2cb6daa0-da1c-4e6f-876a-9da8bda218e6",
   "metadata": {},
   "outputs": [],
   "source": [
    "# a-2) StringType으로 받은 timestamp 컬럼을, TimestampType으로 변경.\n",
    "df = df.withColumn(\"timestamp\", to_timestamp(col(\"timestamp\")))"
   ]
  },
  {
   "cell_type": "code",
   "execution_count": 9,
   "id": "ee9878b4-d77f-4f03-a768-fd68a60c17f1",
   "metadata": {},
   "outputs": [
    {
     "name": "stdout",
     "output_type": "stream",
     "text": [
      "+---------------+-------------------+------+--------+-----------+-------+---------------+\n",
      "|             ip|          timestamp|method|endpoint|status_code|latency|latency_seconds|\n",
      "+---------------+-------------------+------+--------+-----------+-------+---------------+\n",
      "| 130.31.184.234|2023-02-26 04:15:21| PATCH|  /users|        400|     61|          0.061|\n",
      "|  28.15.191.142|2023-02-26 04:15:23|DELETE|  /users|        400|     64|          0.064|\n",
      "|  230.10.23.194|2023-02-26 04:15:27|  POST|  /users|        400|     81|          0.081|\n",
      "|146.176.215.164|2023-02-26 04:15:31|  POST|  /users|        400|      7|          0.007|\n",
      "|  47.11.220.144|2023-02-26 04:15:35|   GET|  /users|        400|     36|          0.036|\n",
      "|  162.75.159.67|2023-02-26 04:15:43|DELETE|  /users|        400|     31|          0.031|\n",
      "|   133.26.14.69|2023-02-26 04:15:46|  POST|  /users|        400|     97|          0.097|\n",
      "|   8.71.145.153|2023-02-26 04:15:52| PATCH|  /users|        400|     50|           0.05|\n",
      "| 212.58.227.134|2023-02-26 04:15:50|DELETE|  /users|        400|     98|          0.098|\n",
      "|118.235.209.255|2023-02-26 04:15:59|   GET|  /users|        400|     37|          0.037|\n",
      "|  146.35.62.119|2023-02-26 04:16:06|   GET|  /users|        400|      3|          0.003|\n",
      "|110.219.229.250|2023-02-26 04:16:12|   PUT|  /users|        400|      7|          0.007|\n",
      "|  218.115.64.80|2023-02-26 04:16:16| PATCH|  /users|        400|     79|          0.079|\n",
      "|  110.65.70.111|2023-02-26 04:16:26|   PUT|  /users|        400|      7|          0.007|\n",
      "| 137.249.41.148|2023-02-26 04:16:31|   PUT|  /users|        400|     92|          0.092|\n",
      "| 212.189.94.211|2023-02-26 04:16:34|  POST|  /users|        400|     41|          0.041|\n",
      "| 173.235.83.235|2023-02-26 04:16:34|DELETE|  /users|        400|     47|          0.047|\n",
      "|   130.244.56.9|2023-02-26 04:16:34|DELETE|  /users|        400|     56|          0.056|\n",
      "| 231.251.120.20|2023-02-26 04:16:49|   GET|  /users|        400|     77|          0.077|\n",
      "| 229.199.88.183|2023-02-26 04:16:51|  POST|  /users|        400|     69|          0.069|\n",
      "+---------------+-------------------+------+--------+-----------+-------+---------------+\n",
      "only showing top 20 rows\n",
      "\n"
     ]
    }
   ],
   "source": [
    "# b) filter\n",
    "# b-1) status_code = 400, endpoint = \"/users\"인 row만 필터링\n",
    "df.filter((df.status_code == \"400\") & (df.endpoint == \"/users\")).show()"
   ]
  },
  {
   "cell_type": "code",
   "execution_count": 11,
   "id": "a3d0d301-70e7-4464-9fa5-683d15d86d3d",
   "metadata": {},
   "outputs": [
    {
     "name": "stdout",
     "output_type": "stream",
     "text": [
      "+------+-----------+-----------+-----------+------------------+\n",
      "|method|   endpoint|max_latency|min_latency|      mean_latency|\n",
      "+------+-----------+-----------+-----------+------------------+\n",
      "|   GET|    /events|         85|          1|41.354838709677416|\n",
      "|DELETE| /playbooks|         99|          6| 51.10909090909091|\n",
      "|DELETE| /customers|         98|          5| 53.05769230769231|\n",
      "|DELETE|     /lists|         99|          4| 47.73529411764706|\n",
      "| PATCH|   /parsers|         99|          1|50.578947368421055|\n",
      "| PATCH|     /users|        100|          1| 50.82692307692308|\n",
      "|   GET| /customers|        100|          1| 49.02564102564103|\n",
      "|   PUT| /playbooks|         99|          1| 43.06818181818182|\n",
      "|  POST| /customers|         98|          2| 51.78688524590164|\n",
      "|   GET|     /users|         97|          1| 49.04347826086956|\n",
      "|   PUT|     /users|         98|          1| 51.22857142857143|\n",
      "|  POST|    /events|        100|          3|48.791666666666664|\n",
      "|   PUT|     /lists|        100|          2|             55.95|\n",
      "| PATCH| /fieldsets|         98|          7| 52.17777777777778|\n",
      "|   GET|   /parsers|         99|          1| 47.62264150943396|\n",
      "|  POST| /fieldsets|        100|          1| 49.43396226415094|\n",
      "|   PUT|/collectors|         98|          1| 52.84848484848485|\n",
      "|DELETE|    /events|         98|          2| 52.15384615384615|\n",
      "| PATCH|    /alerts|        100|          6| 52.31578947368421|\n",
      "|DELETE|    /alerts|         95|          3|52.733333333333334|\n",
      "+------+-----------+-----------+-----------+------------------+\n",
      "only showing top 20 rows\n",
      "\n"
     ]
    }
   ],
   "source": [
    "# c) group by\n",
    "# c-1) method, endpoint 별 latency의 최댓값, 최솟값, 평균값 확인\n",
    "group_cols = [\"method\", \"endpoint\"]\n",
    "df.groupby(group_cols) \\\n",
    "        .agg(max(\"latency\").alias(\"max_latency\"),\n",
    "            min(\"latency\").alias(\"min_latency\"),\n",
    "            mean(\"latency\").alias(\"mean_latency\")) \\\n",
    "        .show()\n"
   ]
  },
  {
   "cell_type": "code",
   "execution_count": 13,
   "id": "349cd624-e0f2-4460-bc47-a777bd6ac5a2",
   "metadata": {},
   "outputs": [
    {
     "name": "stdout",
     "output_type": "stream",
     "text": [
      "+----+------+--------------------+--------+\n",
      "|hour|minute|             ip_list|ip_count|\n",
      "+----+------+--------------------+--------+\n",
      "|   4|    15|[206.229.65.248, ...|     848|\n",
      "|   4|    16|[111.237.158.56, ...|    1408|\n",
      "|   4|    17|[38.212.159.99, 8...|      24|\n",
      "+----+------+--------------------+--------+\n",
      "\n"
     ]
    }
   ],
   "source": [
    "# c-2) 분 단위의, 중복을 제거한 ip 리스트, 개수 뽑기\n",
    "group_cols = [\"hour\", \"minute\"]\n",
    "df.withColumn( \"hour\", hour(date_trunc(\"hour\", col(\"timestamp\"))),\n",
    "    ).withColumn( \"minute\", minute(date_trunc(\"minute\", col(\"timestamp\"))),\n",
    "    ).groupby(group_cols).agg(collect_set(\"ip\").alias(\"ip_list\"),\n",
    "    count(\"ip\").alias(\"ip_count\")) \\\n",
    "    .sort(group_cols).show()"
   ]
  },
  {
   "cell_type": "code",
   "execution_count": null,
   "id": "a3355a8d-285b-4db0-82c9-dc6d04e90176",
   "metadata": {},
   "outputs": [],
   "source": []
  },
  {
   "cell_type": "code",
   "execution_count": null,
   "id": "34a2780f-5755-4ebb-81d6-8fb25646d9b1",
   "metadata": {},
   "outputs": [],
   "source": []
  },
  {
   "cell_type": "code",
   "execution_count": null,
   "id": "3afb8fc0-adbb-4981-8a56-8d785311888a",
   "metadata": {},
   "outputs": [],
   "source": []
  },
  {
   "cell_type": "code",
   "execution_count": null,
   "id": "dd9a4eae-d55e-4235-8cfc-d8ef5e2ce499",
   "metadata": {},
   "outputs": [],
   "source": []
  },
  {
   "cell_type": "code",
   "execution_count": null,
   "id": "fefa5b6b-3705-48a7-b8fc-f5e0ca9ab51b",
   "metadata": {},
   "outputs": [],
   "source": []
  },
  {
   "cell_type": "code",
   "execution_count": null,
   "id": "33d9a394-af44-47c7-922c-ac3c3323b8aa",
   "metadata": {},
   "outputs": [],
   "source": []
  },
  {
   "cell_type": "code",
   "execution_count": null,
   "id": "272125d1-277d-4844-ad9d-f46f26c70ea1",
   "metadata": {},
   "outputs": [],
   "source": []
  },
  {
   "cell_type": "code",
   "execution_count": null,
   "id": "08b67b0f-0f25-4b9b-9451-788d66ac4fcb",
   "metadata": {},
   "outputs": [],
   "source": []
  }
 ],
 "metadata": {
  "kernelspec": {
   "display_name": "Python 3 (ipykernel)",
   "language": "python",
   "name": "python3"
  },
  "language_info": {
   "codemirror_mode": {
    "name": "ipython",
    "version": 3
   },
   "file_extension": ".py",
   "mimetype": "text/x-python",
   "name": "python",
   "nbconvert_exporter": "python",
   "pygments_lexer": "ipython3",
   "version": "3.11.6"
  }
 },
 "nbformat": 4,
 "nbformat_minor": 5
}
