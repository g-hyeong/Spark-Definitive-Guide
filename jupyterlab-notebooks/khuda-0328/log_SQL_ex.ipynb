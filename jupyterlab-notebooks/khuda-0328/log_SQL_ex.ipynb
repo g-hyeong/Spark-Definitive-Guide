{
 "cells": [
  {
   "cell_type": "code",
   "execution_count": 1,
   "id": "1a9cfc99-9770-4375-8dad-1608d9a7844a",
   "metadata": {},
   "outputs": [],
   "source": [
    "from typing import List\n",
    "from datetime import datetime\n",
    "from pyspark.sql.types import *\n",
    "from pyspark.sql import SparkSession\n",
    "from pyspark.sql import SQLContext\n",
    "import pandas as pd\n",
    "import pyspark\n",
    "import time"
   ]
  },
  {
   "cell_type": "code",
   "execution_count": 2,
   "id": "1a4bb0a5-b633-4045-9e5e-cb8e20a623fb",
   "metadata": {},
   "outputs": [],
   "source": [
    "ss = SparkSession.builder \\\n",
    "        .master(\"local\") \\\n",
    "        .appName(\"log sql ex\") \\\n",
    "        .getOrCreate()"
   ]
  },
  {
   "cell_type": "code",
   "execution_count": 3,
   "id": "909492c7-f5a4-417c-a32a-39f3d36ebe1e",
   "metadata": {},
   "outputs": [],
   "source": [
    "# 스키마 정의\n",
    "fields = StructType([\n",
    "        StructField(\"ip\", StringType(), False),\n",
    "        StructField(\"timestamp\", StringType(), False),\n",
    "        StructField(\"method\", StringType(), False),\n",
    "        StructField(\"endpoint\", StringType(), False),\n",
    "        StructField(\"status_code\", StringType(), False),\n",
    "        StructField(\"latency\", IntegerType(), False),  # 단위 : milliseconds\n",
    "    ])\n",
    "log_data = ss.read.schema(fields).csv(\"data/log.csv\")"
   ]
  },
  {
   "cell_type": "code",
   "execution_count": 4,
   "id": "2833c4fd-4fc2-42e9-9353-45960ce48693",
   "metadata": {},
   "outputs": [],
   "source": [
    "table_name = \"log_data\"\n",
    "log_data.createOrReplaceTempView(table_name)"
   ]
  },
  {
   "cell_type": "code",
   "execution_count": 5,
   "id": "61a56b01-44f1-403a-9b14-c042df78684e",
   "metadata": {},
   "outputs": [
    {
     "name": "stdout",
     "output_type": "stream",
     "text": [
      "+---------------+-------------------+------+-----------+-----------+-------+\n",
      "|             ip|          timestamp|method|   endpoint|status_code|latency|\n",
      "+---------------+-------------------+------+-----------+-----------+-------+\n",
      "| 130.31.184.234|2023-02-26 04:15:21| PATCH|     /users|        400|     61|\n",
      "|  212.228.86.35|2023-02-26 04:15:21| PATCH| /customers|        400|     66|\n",
      "|  28.252.170.12|2023-02-26 04:15:21|   GET|    /events|        401|     73|\n",
      "|   180.97.92.48|2023-02-26 04:15:22| PATCH|   /parsers|        503|     17|\n",
      "|   73.218.61.17|2023-02-26 04:15:22|   GET|     /lists|        201|     91|\n",
      "|   24.15.193.50|2023-02-26 04:15:23|   PUT|      /auth|        400|     24|\n",
      "|  31.181.214.70|2023-02-26 04:15:23| PATCH|      /auth|        404|     17|\n",
      "| 192.175.62.126|2023-02-26 04:15:23|   GET| /playbooks|        201|     45|\n",
      "|  50.78.180.190|2023-02-26 04:15:23|DELETE|    /events|        403|     65|\n",
      "|151.183.175.203|2023-02-26 04:15:23|DELETE| /playbooks|        400|     99|\n",
      "|  176.91.81.136|2023-02-26 04:15:23|DELETE| /customers|        300|     98|\n",
      "|    74.65.110.7|2023-02-26 04:15:24|DELETE| /customers|        401|     56|\n",
      "| 59.204.139.101|2023-02-26 04:15:25|   PUT|/collectors|        404|     57|\n",
      "| 161.247.160.76|2023-02-26 04:15:25|   PUT|    /events|        500|     39|\n",
      "| 197.89.231.222|2023-02-26 04:15:25|   GET|     /users|        401|     82|\n",
      "|   77.129.55.48|2023-02-26 04:15:26|  POST| /customers|        403|     24|\n",
      "|  21.86.250.149|2023-02-26 04:15:26|   GET| /playbooks|        400|     43|\n",
      "|150.153.245.113|2023-02-26 04:15:26|   GET|     /lists|        301|     46|\n",
      "|   90.87.227.59|2023-02-26 04:15:26|   PUT| /customers|        301|     58|\n",
      "| 97.226.151.252|2023-02-26 04:15:26|  POST|    /events|        201|     86|\n",
      "+---------------+-------------------+------+-----------+-----------+-------+\n",
      "only showing top 20 rows\n",
      "\n"
     ]
    }
   ],
   "source": [
    "# 데이터 확인\n",
    "ss.sql(f\"SELECT * FROM {table_name}\").show()"
   ]
  },
  {
   "cell_type": "code",
   "execution_count": 6,
   "id": "b08d1362-adb8-4d29-8c68-3873b358ed5b",
   "metadata": {},
   "outputs": [
    {
     "name": "stdout",
     "output_type": "stream",
     "text": [
      "root\n",
      " |-- ip: string (nullable = true)\n",
      " |-- timestamp: string (nullable = true)\n",
      " |-- method: string (nullable = true)\n",
      " |-- endpoint: string (nullable = true)\n",
      " |-- status_code: string (nullable = true)\n",
      " |-- latency: integer (nullable = true)\n",
      "\n"
     ]
    }
   ],
   "source": [
    "# 스키마 확인\n",
    "ss.sql(f\"SELECT * FROM {table_name}\").printSchema()"
   ]
  },
  {
   "cell_type": "code",
   "execution_count": 7,
   "id": "1ee4f05b-d6ed-4a75-b21f-02fa7e08edaa",
   "metadata": {},
   "outputs": [
    {
     "name": "stdout",
     "output_type": "stream",
     "text": [
      "+---------------+-------------------+------+-----------+-----------+-------+---------------+\n",
      "|             ip|          timestamp|method|   endpoint|status_code|latency|latency_seconds|\n",
      "+---------------+-------------------+------+-----------+-----------+-------+---------------+\n",
      "| 130.31.184.234|2023-02-26 04:15:21| PATCH|     /users|        400|     61|          0.061|\n",
      "|  212.228.86.35|2023-02-26 04:15:21| PATCH| /customers|        400|     66|          0.066|\n",
      "|  28.252.170.12|2023-02-26 04:15:21|   GET|    /events|        401|     73|          0.073|\n",
      "|   180.97.92.48|2023-02-26 04:15:22| PATCH|   /parsers|        503|     17|          0.017|\n",
      "|   73.218.61.17|2023-02-26 04:15:22|   GET|     /lists|        201|     91|          0.091|\n",
      "|   24.15.193.50|2023-02-26 04:15:23|   PUT|      /auth|        400|     24|          0.024|\n",
      "|  31.181.214.70|2023-02-26 04:15:23| PATCH|      /auth|        404|     17|          0.017|\n",
      "| 192.175.62.126|2023-02-26 04:15:23|   GET| /playbooks|        201|     45|          0.045|\n",
      "|  50.78.180.190|2023-02-26 04:15:23|DELETE|    /events|        403|     65|          0.065|\n",
      "|151.183.175.203|2023-02-26 04:15:23|DELETE| /playbooks|        400|     99|          0.099|\n",
      "|  176.91.81.136|2023-02-26 04:15:23|DELETE| /customers|        300|     98|          0.098|\n",
      "|    74.65.110.7|2023-02-26 04:15:24|DELETE| /customers|        401|     56|          0.056|\n",
      "| 59.204.139.101|2023-02-26 04:15:25|   PUT|/collectors|        404|     57|          0.057|\n",
      "| 161.247.160.76|2023-02-26 04:15:25|   PUT|    /events|        500|     39|          0.039|\n",
      "| 197.89.231.222|2023-02-26 04:15:25|   GET|     /users|        401|     82|          0.082|\n",
      "|   77.129.55.48|2023-02-26 04:15:26|  POST| /customers|        403|     24|          0.024|\n",
      "|  21.86.250.149|2023-02-26 04:15:26|   GET| /playbooks|        400|     43|          0.043|\n",
      "|150.153.245.113|2023-02-26 04:15:26|   GET|     /lists|        301|     46|          0.046|\n",
      "|   90.87.227.59|2023-02-26 04:15:26|   PUT| /customers|        301|     58|          0.058|\n",
      "| 97.226.151.252|2023-02-26 04:15:26|  POST|    /events|        201|     86|          0.086|\n",
      "+---------------+-------------------+------+-----------+-----------+-------+---------------+\n",
      "only showing top 20 rows\n",
      "\n"
     ]
    }
   ],
   "source": [
    "# a) 컬럼 변환\n",
    "# a-1) 현재 latency 컬럼의 단위는 millseconds인데, seconds 단위인 latency_seconds 컬럼을 새로 만들기.\n",
    "query = f\"\"\"\n",
    "    SELECT *, \n",
    "    latency / 1000 AS latency_seconds\n",
    "    FROM {table_name}\n",
    "\"\"\"\n",
    "\n",
    "ss.sql(query).show()"
   ]
  },
  {
   "cell_type": "code",
   "execution_count": 21,
   "id": "ad287500-71ee-4020-96f0-99de6c636d7b",
   "metadata": {},
   "outputs": [
    {
     "name": "stdout",
     "output_type": "stream",
     "text": [
      "+---------------+-------------------+------+-----------+-----------+-------+\n",
      "|             ip|          timestamp|method|   endpoint|status_code|latency|\n",
      "+---------------+-------------------+------+-----------+-----------+-------+\n",
      "| 130.31.184.234|2023-02-26 04:15:21| PATCH|     /users|        400|     61|\n",
      "|  212.228.86.35|2023-02-26 04:15:21| PATCH| /customers|        400|     66|\n",
      "|  28.252.170.12|2023-02-26 04:15:21|   GET|    /events|        401|     73|\n",
      "|   180.97.92.48|2023-02-26 04:15:22| PATCH|   /parsers|        503|     17|\n",
      "|   73.218.61.17|2023-02-26 04:15:22|   GET|     /lists|        201|     91|\n",
      "|   24.15.193.50|2023-02-26 04:15:23|   PUT|      /auth|        400|     24|\n",
      "|  31.181.214.70|2023-02-26 04:15:23| PATCH|      /auth|        404|     17|\n",
      "| 192.175.62.126|2023-02-26 04:15:23|   GET| /playbooks|        201|     45|\n",
      "|  50.78.180.190|2023-02-26 04:15:23|DELETE|    /events|        403|     65|\n",
      "|151.183.175.203|2023-02-26 04:15:23|DELETE| /playbooks|        400|     99|\n",
      "|  176.91.81.136|2023-02-26 04:15:23|DELETE| /customers|        300|     98|\n",
      "|    74.65.110.7|2023-02-26 04:15:24|DELETE| /customers|        401|     56|\n",
      "| 59.204.139.101|2023-02-26 04:15:25|   PUT|/collectors|        404|     57|\n",
      "| 161.247.160.76|2023-02-26 04:15:25|   PUT|    /events|        500|     39|\n",
      "| 197.89.231.222|2023-02-26 04:15:25|   GET|     /users|        401|     82|\n",
      "|   77.129.55.48|2023-02-26 04:15:26|  POST| /customers|        403|     24|\n",
      "|  21.86.250.149|2023-02-26 04:15:26|   GET| /playbooks|        400|     43|\n",
      "|150.153.245.113|2023-02-26 04:15:26|   GET|     /lists|        301|     46|\n",
      "|   90.87.227.59|2023-02-26 04:15:26|   PUT| /customers|        301|     58|\n",
      "| 97.226.151.252|2023-02-26 04:15:26|  POST|    /events|        201|     86|\n",
      "+---------------+-------------------+------+-----------+-----------+-------+\n",
      "only showing top 20 rows\n",
      "\n"
     ]
    }
   ],
   "source": [
    "# a-2) StringType으로 받은 timestamp 컬럼을, TimestampType으로 변경.\n",
    "ss.sql(f\"\"\"\n",
    "    SELECT ip, TIMESTAMP(timestamp) AS timestamp, method, endpoint, status_code, latency\n",
    "    FROM {table_name}\n",
    "    \"\"\").show()"
   ]
  },
  {
   "cell_type": "code",
   "execution_count": 23,
   "id": "559eb612-a7fa-4a70-aaf9-fe943db024a6",
   "metadata": {},
   "outputs": [
    {
     "name": "stdout",
     "output_type": "stream",
     "text": [
      "+---------------+-------------------+------+--------+-----------+-------+\n",
      "|             ip|          timestamp|method|endpoint|status_code|latency|\n",
      "+---------------+-------------------+------+--------+-----------+-------+\n",
      "| 130.31.184.234|2023-02-26 04:15:21| PATCH|  /users|        400|     61|\n",
      "|  28.15.191.142|2023-02-26 04:15:23|DELETE|  /users|        400|     64|\n",
      "|  230.10.23.194|2023-02-26 04:15:27|  POST|  /users|        400|     81|\n",
      "|146.176.215.164|2023-02-26 04:15:31|  POST|  /users|        400|      7|\n",
      "|  47.11.220.144|2023-02-26 04:15:35|   GET|  /users|        400|     36|\n",
      "|  162.75.159.67|2023-02-26 04:15:43|DELETE|  /users|        400|     31|\n",
      "|   133.26.14.69|2023-02-26 04:15:46|  POST|  /users|        400|     97|\n",
      "|   8.71.145.153|2023-02-26 04:15:52| PATCH|  /users|        400|     50|\n",
      "| 212.58.227.134|2023-02-26 04:15:50|DELETE|  /users|        400|     98|\n",
      "|118.235.209.255|2023-02-26 04:15:59|   GET|  /users|        400|     37|\n",
      "|  146.35.62.119|2023-02-26 04:16:06|   GET|  /users|        400|      3|\n",
      "|110.219.229.250|2023-02-26 04:16:12|   PUT|  /users|        400|      7|\n",
      "|  218.115.64.80|2023-02-26 04:16:16| PATCH|  /users|        400|     79|\n",
      "|  110.65.70.111|2023-02-26 04:16:26|   PUT|  /users|        400|      7|\n",
      "| 137.249.41.148|2023-02-26 04:16:31|   PUT|  /users|        400|     92|\n",
      "| 212.189.94.211|2023-02-26 04:16:34|  POST|  /users|        400|     41|\n",
      "| 173.235.83.235|2023-02-26 04:16:34|DELETE|  /users|        400|     47|\n",
      "|   130.244.56.9|2023-02-26 04:16:34|DELETE|  /users|        400|     56|\n",
      "| 231.251.120.20|2023-02-26 04:16:49|   GET|  /users|        400|     77|\n",
      "| 229.199.88.183|2023-02-26 04:16:51|  POST|  /users|        400|     69|\n",
      "+---------------+-------------------+------+--------+-----------+-------+\n",
      "only showing top 20 rows\n",
      "\n"
     ]
    }
   ],
   "source": [
    "# b) filter\n",
    "# b-1) status_code = 400, endpoint = \"/users\"인 row만 필터링\n",
    "ss.sql(f\"\"\"\n",
    "SELECT * FROM {table_name}\n",
    "WHERE status_code = '400' AND endpoint = '/users'\n",
    "\"\"\").show()"
   ]
  },
  {
   "cell_type": "code",
   "execution_count": 24,
   "id": "5e9caa10-cefd-4dc1-8f22-f41dbe6cd367",
   "metadata": {},
   "outputs": [
    {
     "name": "stdout",
     "output_type": "stream",
     "text": [
      "+------+-----------+-----------+-----------+------------------+\n",
      "|method|   endpoint|max_latency|min_latency|      mean_latency|\n",
      "+------+-----------+-----------+-----------+------------------+\n",
      "|   GET|    /events|         85|          1|41.354838709677416|\n",
      "|DELETE| /playbooks|         99|          6| 51.10909090909091|\n",
      "|DELETE| /customers|         98|          5| 53.05769230769231|\n",
      "|DELETE|     /lists|         99|          4| 47.73529411764706|\n",
      "| PATCH|   /parsers|         99|          1|50.578947368421055|\n",
      "| PATCH|     /users|        100|          1| 50.82692307692308|\n",
      "|   GET| /customers|        100|          1| 49.02564102564103|\n",
      "|   PUT| /playbooks|         99|          1| 43.06818181818182|\n",
      "|  POST| /customers|         98|          2| 51.78688524590164|\n",
      "|   GET|     /users|         97|          1| 49.04347826086956|\n",
      "|   PUT|     /users|         98|          1| 51.22857142857143|\n",
      "|  POST|    /events|        100|          3|48.791666666666664|\n",
      "|   PUT|     /lists|        100|          2|             55.95|\n",
      "| PATCH| /fieldsets|         98|          7| 52.17777777777778|\n",
      "|   GET|   /parsers|         99|          1| 47.62264150943396|\n",
      "|  POST| /fieldsets|        100|          1| 49.43396226415094|\n",
      "|   PUT|/collectors|         98|          1| 52.84848484848485|\n",
      "|DELETE|    /events|         98|          2| 52.15384615384615|\n",
      "| PATCH|    /alerts|        100|          6| 52.31578947368421|\n",
      "|DELETE|    /alerts|         95|          3|52.733333333333334|\n",
      "+------+-----------+-----------+-----------+------------------+\n",
      "only showing top 20 rows\n",
      "\n"
     ]
    }
   ],
   "source": [
    "# c) group by\n",
    "# c-1) method, endpoint 별 latency의 최댓값, 최솟값, 평균값 확인\n",
    "ss.sql(f\"\"\"\n",
    "SELECT \n",
    "    method, \n",
    "    endpoint, \n",
    "    MAX(latency) AS max_latency,\n",
    "    MIN(latency) AS min_latency,\n",
    "    AVG(latency) AS mean_latency\n",
    "FROM  {table_name}\n",
    "GROUP BY method, endpoint\n",
    "\"\"\").show()"
   ]
  },
  {
   "cell_type": "code",
   "execution_count": 26,
   "id": "56badb62-d32a-4338-a2b8-173af6674b04",
   "metadata": {},
   "outputs": [
    {
     "name": "stdout",
     "output_type": "stream",
     "text": [
      "+----+------+--------------------+--------+\n",
      "|hour|minute|             ip_list|ip_count|\n",
      "+----+------+--------------------+--------+\n",
      "|   4|    15|[206.229.65.248, ...|     848|\n",
      "|   4|    16|[111.237.158.56, ...|    1408|\n",
      "|   4|    17|[38.212.159.99, 8...|      24|\n",
      "+----+------+--------------------+--------+\n",
      "\n"
     ]
    }
   ],
   "source": [
    "# c-2) 분 단위의, 중복을 제거한 ip 리스트, 개수 뽑기\n",
    "# ss.sql(f\"\"\"\n",
    "ss.sql(f\"\"\"\n",
    "SELECT \n",
    "    hour(date_trunc('HOUR', timestamp)) AS hour,\n",
    "    minute(date_trunc('MINUTE', timestamp)) AS minute,\n",
    "    collect_set(ip) AS ip_list,\n",
    "    count(ip) AS ip_count\n",
    "FROM {table_name}\n",
    "GROUP BY hour, minute\n",
    "ORDER BY hour, minute\n",
    "\"\"\").show()"
   ]
  }
 ],
 "metadata": {
  "kernelspec": {
   "display_name": "Python 3 (ipykernel)",
   "language": "python",
   "name": "python3"
  },
  "language_info": {
   "codemirror_mode": {
    "name": "ipython",
    "version": 3
   },
   "file_extension": ".py",
   "mimetype": "text/x-python",
   "name": "python",
   "nbconvert_exporter": "python",
   "pygments_lexer": "ipython3",
   "version": "3.11.6"
  }
 },
 "nbformat": 4,
 "nbformat_minor": 5
}
