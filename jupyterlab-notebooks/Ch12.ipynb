{
 "cells": [
  {
   "cell_type": "code",
   "execution_count": 27,
   "id": "0553bd93-bce7-49d4-850f-f3f5e3d4e20a",
   "metadata": {},
   "outputs": [],
   "source": [
    "from pyspark.sql import SparkSession\n",
    "\n",
    "spark = (\n",
    "    SparkSession.builder.appName(\"YourAppName\")\n",
    "    .config(\"spark.master\", \"local[*]\")\n",
    "    .config(\"spark.driver.extraClassPath\", \"/spark/jars/sqlite-jdbc-3.36.0.3.jar\")\n",
    "    .config(\"spark.jars\", \"/spark/jars/sqlite-jdbc-3.36.0.3.jar\")\n",
    "    .getOrCreate()\n",
    ")"
   ]
  },
  {
   "cell_type": "code",
   "execution_count": 28,
   "id": "efffdf35-0f44-47ce-828c-35da6ed77289",
   "metadata": {},
   "outputs": [
    {
     "data": {
      "text/plain": [
       "MapPartitionsRDD[70] at javaToPython at NativeMethodAccessorImpl.java:0"
      ]
     },
     "execution_count": 28,
     "metadata": {},
     "output_type": "execute_result"
    }
   ],
   "source": [
    "spark.range(10).rdd"
   ]
  },
  {
   "cell_type": "code",
   "execution_count": 29,
   "id": "298be51b-2d68-46c0-8eb4-104431af9115",
   "metadata": {},
   "outputs": [
    {
     "data": {
      "text/plain": [
       "PythonRDD[77] at RDD at PythonRDD.scala:53"
      ]
     },
     "execution_count": 29,
     "metadata": {},
     "output_type": "execute_result"
    }
   ],
   "source": [
    "spark.range(10).toDF(\"id\").rdd.map(lambda row: row[0])"
   ]
  },
  {
   "cell_type": "code",
   "execution_count": 30,
   "id": "13639a5c-593b-47af-b84f-6becb12393e0",
   "metadata": {},
   "outputs": [],
   "source": [
    "# 로컬 컬렉션으로 RDD 생성\n",
    "myCollection = \"Spark The Definitive Guide : Big Data Processing Made Simple\".split(\" \")\n",
    "words = spark.sparkContext.parallelize(myCollection, 2)"
   ]
  },
  {
   "cell_type": "code",
   "execution_count": 31,
   "id": "dcfd12de-a90c-460c-995a-7819538abc02",
   "metadata": {},
   "outputs": [
    {
     "data": {
      "text/plain": [
       "'myWords'"
      ]
     },
     "execution_count": 31,
     "metadata": {},
     "output_type": "execute_result"
    }
   ],
   "source": [
    "words.setName(\"myWords\")\n",
    "words.name()"
   ]
  },
  {
   "cell_type": "code",
   "execution_count": 32,
   "id": "406164fd-2218-4f25-b9ff-c13974c617a3",
   "metadata": {},
   "outputs": [
    {
     "data": {
      "text/plain": [
       "10"
      ]
     },
     "execution_count": 32,
     "metadata": {},
     "output_type": "execute_result"
    }
   ],
   "source": [
    "words.distinct().count()"
   ]
  },
  {
   "cell_type": "code",
   "execution_count": 33,
   "id": "fefa6968-1db0-477c-a639-69c4efe70d4d",
   "metadata": {},
   "outputs": [],
   "source": [
    "# filter\n",
    "# SQL의 WHERE과 비슷\n",
    "# RDD의 레코드를 모두 확인하고 조건 함수를 만족하는 레코드 반환\n",
    "def startsWithS(individual):\n",
    "    return individual.startswith(\"S\")"
   ]
  },
  {
   "cell_type": "code",
   "execution_count": 34,
   "id": "18943050-c01f-466b-bf00-71ce404babc9",
   "metadata": {},
   "outputs": [
    {
     "data": {
      "text/plain": [
       "['Spark', 'Simple']"
      ]
     },
     "execution_count": 34,
     "metadata": {},
     "output_type": "execute_result"
    }
   ],
   "source": [
    "words.filter(lambda word: startsWithS(word)).collect()"
   ]
  },
  {
   "cell_type": "code",
   "execution_count": 35,
   "id": "1055d8db-99c2-4af2-ae3b-a42243317d12",
   "metadata": {},
   "outputs": [],
   "source": [
    "# map\n",
    "words2 = words.map(lambda word: (word, word[0], word.startswith(\"S\")))"
   ]
  },
  {
   "cell_type": "code",
   "execution_count": 36,
   "id": "94bf75d9-0806-4a58-8598-a5f34f330bbc",
   "metadata": {},
   "outputs": [
    {
     "data": {
      "text/plain": [
       "[('Spark', 'S', True), ('Simple', 'S', True)]"
      ]
     },
     "execution_count": 36,
     "metadata": {},
     "output_type": "execute_result"
    }
   ],
   "source": [
    "words2.filter(lambda record: record[2]).take(5)"
   ]
  },
  {
   "cell_type": "code",
   "execution_count": 37,
   "id": "4b726ad1-9543-4a73-ae60-5799d1f4dc14",
   "metadata": {},
   "outputs": [
    {
     "data": {
      "text/plain": [
       "['S', 'p', 'a', 'r', 'k']"
      ]
     },
     "execution_count": 37,
     "metadata": {},
     "output_type": "execute_result"
    }
   ],
   "source": [
    "# flatMap\n",
    "# 단어를 문자 집합 [char]로 변환\n",
    "words.flatMap(lambda word: list(word)).take(5)"
   ]
  },
  {
   "cell_type": "code",
   "execution_count": 38,
   "id": "bed4a12e-445c-425d-9528-a59c42b6dca9",
   "metadata": {},
   "outputs": [
    {
     "data": {
      "text/plain": [
       "['Definitive', 'Processing']"
      ]
     },
     "execution_count": 38,
     "metadata": {},
     "output_type": "execute_result"
    }
   ],
   "source": [
    "# 단어 길이 내림차순 정렬\n",
    "words.sortBy(lambda word: len(word) * -1).take(2)"
   ]
  },
  {
   "cell_type": "code",
   "execution_count": 39,
   "id": "84d547aa-3581-4faa-9731-1fb2c07c6941",
   "metadata": {},
   "outputs": [],
   "source": [
    "fiftyFiftySplit = words.randomSplit([0.5, 0.5])"
   ]
  },
  {
   "cell_type": "code",
   "execution_count": 40,
   "id": "b4d402e2-a003-41f2-ac08-a06f6f0d6ecf",
   "metadata": {},
   "outputs": [
    {
     "name": "stdout",
     "output_type": "stream",
     "text": [
      "<class 'list'>\n",
      "PythonRDD[95] at RDD at PythonRDD.scala:53\n",
      "['Spark', 'The', 'Definitive']\n"
     ]
    }
   ],
   "source": [
    "print(type(fiftyFiftySplit))\n",
    "print(fiftyFiftySplit[0])\n",
    "print(fiftyFiftySplit[0].take(5))"
   ]
  },
  {
   "cell_type": "code",
   "execution_count": 41,
   "id": "61169253-63a7-4084-afe5-fdb686eb93fd",
   "metadata": {},
   "outputs": [
    {
     "data": {
      "text/plain": [
       "210"
      ]
     },
     "execution_count": 41,
     "metadata": {},
     "output_type": "execute_result"
    }
   ],
   "source": [
    "# reduce: RDD의 모든 값을 하나로 만듦\n",
    "spark.sparkContext.parallelize(range(1, 21)).reduce(lambda x, y: x + y)"
   ]
  },
  {
   "cell_type": "code",
   "execution_count": 42,
   "id": "f7752bcf-9e92-4c3d-9a55-9da4679fea16",
   "metadata": {},
   "outputs": [
    {
     "data": {
      "text/plain": [
       "'Processing'"
      ]
     },
     "execution_count": 42,
     "metadata": {},
     "output_type": "execute_result"
    }
   ],
   "source": [
    "# 단어 집합에서 가장 긴 단어 찾는 예제 reduce 메서드로 구현\n",
    "def wordLengthReducer(leftWord, rightWord):\n",
    "    if len(leftWord) > len(rightWord):\n",
    "        return leftWord\n",
    "    else:\n",
    "        return rightWord\n",
    "\n",
    "\n",
    "words.reduce(wordLengthReducer)"
   ]
  },
  {
   "cell_type": "code",
   "execution_count": 43,
   "id": "bb2fdd9e-2da8-429b-aac8-76f04e33f062",
   "metadata": {},
   "outputs": [
    {
     "data": {
      "text/plain": [
       "10"
      ]
     },
     "execution_count": 43,
     "metadata": {},
     "output_type": "execute_result"
    }
   ],
   "source": [
    "words.count()"
   ]
  },
  {
   "cell_type": "code",
   "execution_count": 44,
   "id": "7a725f8d-ddae-46e1-9f35-f6d7a55154b1",
   "metadata": {},
   "outputs": [
    {
     "data": {
      "text/plain": [
       "10"
      ]
     },
     "execution_count": 44,
     "metadata": {},
     "output_type": "execute_result"
    }
   ],
   "source": [
    "confidence = 0.95\n",
    "timeoutMillseconds = 400\n",
    "words.countApprox(timeoutMillseconds, confidence)"
   ]
  },
  {
   "cell_type": "code",
   "execution_count": 45,
   "id": "3e659d6f-e36c-4598-80ed-ef9bde8596ed",
   "metadata": {},
   "outputs": [
    {
     "data": {
      "text/plain": [
       "10"
      ]
     },
     "execution_count": 45,
     "metadata": {},
     "output_type": "execute_result"
    }
   ],
   "source": [
    "words.countApproxDistinct(0.05)"
   ]
  },
  {
   "cell_type": "code",
   "execution_count": 46,
   "id": "66124c5d-42e9-42e5-997b-00eafe1749e9",
   "metadata": {},
   "outputs": [
    {
     "data": {
      "text/plain": [
       "defaultdict(int,\n",
       "            {'Spark': 1,\n",
       "             'The': 1,\n",
       "             'Definitive': 1,\n",
       "             'Guide': 1,\n",
       "             ':': 1,\n",
       "             'Big': 1,\n",
       "             'Data': 1,\n",
       "             'Processing': 1,\n",
       "             'Made': 1,\n",
       "             'Simple': 1})"
      ]
     },
     "execution_count": 46,
     "metadata": {},
     "output_type": "execute_result"
    }
   ],
   "source": [
    "words.countByValue()"
   ]
  },
  {
   "cell_type": "code",
   "execution_count": 47,
   "id": "c325d2b5-992e-49c2-82d6-86da4a824a84",
   "metadata": {},
   "outputs": [
    {
     "data": {
      "text/plain": [
       "'Spark'"
      ]
     },
     "execution_count": 47,
     "metadata": {},
     "output_type": "execute_result"
    }
   ],
   "source": [
    "words.first()"
   ]
  },
  {
   "cell_type": "markdown",
   "id": "11554661-7401-43dc-a081-bb3193d3aa94",
   "metadata": {},
   "source": [
    "### 파일 저장하기"
   ]
  },
  {
   "cell_type": "code",
   "execution_count": 50,
   "id": "ff840240-c414-4dd9-a495-2fa79f81a837",
   "metadata": {},
   "outputs": [],
   "source": [
    "words.saveAsTextFile(\"file:/tmp/bookTitle2\")"
   ]
  },
  {
   "cell_type": "code",
   "execution_count": 51,
   "id": "0e33be1d-4014-4833-842d-d466f720c75e",
   "metadata": {},
   "outputs": [
    {
     "data": {
      "text/plain": [
       "[Row(sum(id)=25000000000)]"
      ]
     },
     "execution_count": 51,
     "metadata": {},
     "output_type": "execute_result"
    }
   ],
   "source": [
    "df1 = spark.range(2, 1000000, 2)\n",
    "df2 = spark.range(2, 1000000, 4)\n",
    "\n",
    "step1 = df1.repartition(5)\n",
    "step12 = df2.repartition(6)\n",
    "step2 = step1.selectExpr(\"id * 5 as id\")\n",
    "step3 = step2.join(step12, [\"id\"])\n",
    "step4 = step3.selectExpr(\"sum(id)\")\n",
    "\n",
    "step4.collect()"
   ]
  },
  {
   "cell_type": "code",
   "execution_count": 52,
   "id": "9047a343-d51b-440f-9c8a-69c1641960e0",
   "metadata": {},
   "outputs": [
    {
     "name": "stdout",
     "output_type": "stream",
     "text": [
      "== Physical Plan ==\n",
      "AdaptiveSparkPlan isFinalPlan=true\n",
      "+- == Final Plan ==\n",
      "   *(4) HashAggregate(keys=[], functions=[sum(id#40L)])\n",
      "   +- ShuffleQueryStage 3\n",
      "      +- Exchange SinglePartition, ENSURE_REQUIREMENTS, [plan_id=375]\n",
      "         +- *(3) HashAggregate(keys=[], functions=[partial_sum(id#40L)])\n",
      "            +- *(3) Project [id#40L]\n",
      "               +- *(3) BroadcastHashJoin [id#40L], [id#34L], Inner, BuildRight, false\n",
      "                  :- *(3) Project [(id#32L * 5) AS id#40L]\n",
      "                  :  +- ShuffleQueryStage 0\n",
      "                  :     +- Exchange RoundRobinPartitioning(5), REPARTITION_BY_NUM, [plan_id=262]\n",
      "                  :        +- *(1) Range (2, 1000000, step=2, splits=10)\n",
      "                  +- BroadcastQueryStage 2\n",
      "                     +- BroadcastExchange HashedRelationBroadcastMode(List(input[0, bigint, false]),false), [plan_id=272]\n",
      "                        +- ShuffleQueryStage 1\n",
      "                           +- Exchange RoundRobinPartitioning(6), REPARTITION_BY_NUM, [plan_id=268]\n",
      "                              +- *(2) Range (2, 1000000, step=4, splits=10)\n",
      "+- == Initial Plan ==\n",
      "   HashAggregate(keys=[], functions=[sum(id#40L)])\n",
      "   +- Exchange SinglePartition, ENSURE_REQUIREMENTS, [plan_id=245]\n",
      "      +- HashAggregate(keys=[], functions=[partial_sum(id#40L)])\n",
      "         +- Project [id#40L]\n",
      "            +- BroadcastHashJoin [id#40L], [id#34L], Inner, BuildRight, false\n",
      "               :- Project [(id#32L * 5) AS id#40L]\n",
      "               :  +- Exchange RoundRobinPartitioning(5), REPARTITION_BY_NUM, [plan_id=231]\n",
      "               :     +- Range (2, 1000000, step=2, splits=10)\n",
      "               +- BroadcastExchange HashedRelationBroadcastMode(List(input[0, bigint, false]),false), [plan_id=240]\n",
      "                  +- Exchange RoundRobinPartitioning(6), REPARTITION_BY_NUM, [plan_id=234]\n",
      "                     +- Range (2, 1000000, step=4, splits=10)\n",
      "\n",
      "\n"
     ]
    }
   ],
   "source": [
    "step4.explain()"
   ]
  },
  {
   "cell_type": "code",
   "execution_count": null,
   "id": "e5184ebc-0474-4f15-871f-2a9ccbbbf0e1",
   "metadata": {},
   "outputs": [],
   "source": []
  }
 ],
 "metadata": {
  "kernelspec": {
   "display_name": "Python 3 (ipykernel)",
   "language": "python",
   "name": "python3"
  },
  "language_info": {
   "codemirror_mode": {
    "name": "ipython",
    "version": 3
   },
   "file_extension": ".py",
   "mimetype": "text/x-python",
   "name": "python",
   "nbconvert_exporter": "python",
   "pygments_lexer": "ipython3",
   "version": "3.10.12"
  }
 },
 "nbformat": 4,
 "nbformat_minor": 5
}
