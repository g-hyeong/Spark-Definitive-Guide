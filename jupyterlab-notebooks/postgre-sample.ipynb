{
 "cells": [
  {
   "cell_type": "code",
   "execution_count": 1,
   "id": "31d7a43b-4d8c-451d-90fb-ddf2837c0ebb",
   "metadata": {
    "tags": []
   },
   "outputs": [
    {
     "name": "stderr",
     "output_type": "stream",
     "text": [
      "Setting default log level to \"WARN\".\n",
      "To adjust logging level use sc.setLogLevel(newLevel). For SparkR, use setLogLevel(newLevel).\n",
      "24/03/25 12:33:43 WARN NativeCodeLoader: Unable to load native-hadoop library for your platform... using builtin-java classes where applicable\n"
     ]
    },
    {
     "name": "stdout",
     "output_type": "stream",
     "text": [
      "+---+-----+---+\n",
      "| id| name|age|\n",
      "+---+-----+---+\n",
      "|  1|Alice| 30|\n",
      "|  2|  Bob| 25|\n",
      "+---+-----+---+\n",
      "\n"
     ]
    }
   ],
   "source": [
    "from pyspark.sql import SparkSession\n",
    "\n",
    "# SparkSession 생성\n",
    "spark = SparkSession.builder.appName(\"Postgres Integration\").getOrCreate()\n",
    "\n",
    "# PostgreSQL 연결 정보\n",
    "jdbc_url = \"jdbc:postgresql://postgres:5432/spark\"\n",
    "connection_properties = {\n",
    "  \"user\": \"spark\",\n",
    "  \"password\": \"spark\",\n",
    "  \"driver\": \"org.postgresql.Driver\"\n",
    "}\n",
    "\n",
    "# PostgreSQL에서 데이터 읽기\n",
    "df = spark.read.jdbc(url=jdbc_url, table=\"test_table\", properties=connection_properties)\n",
    "\n",
    "# 데이터프레임 출력\n",
    "df.show()\n"
   ]
  },
  {
   "cell_type": "code",
   "execution_count": 3,
   "id": "c5b01992-fea1-4fc6-aaf1-c8af2d996cdc",
   "metadata": {
    "tags": []
   },
   "outputs": [],
   "source": [
    "# 'id' 컬럼 제거\n",
    "df_without_id = df.drop(\"id\")\n",
    "\n",
    "# PostgreSQL 데이터베이스에 데이터 쓰기\n",
    "df_without_id.write.jdbc(url=jdbc_url, table=\"test_table\", mode=\"append\", properties=connection_properties)\n"
   ]
  },
  {
   "cell_type": "code",
   "execution_count": 4,
   "id": "c238c006-df0f-4bb5-ab7c-918a38aa1b2c",
   "metadata": {
    "tags": []
   },
   "outputs": [
    {
     "name": "stdout",
     "output_type": "stream",
     "text": [
      "+---+-----+---+\n",
      "| id| name|age|\n",
      "+---+-----+---+\n",
      "|  1|Alice| 30|\n",
      "|  2|  Bob| 25|\n",
      "|  3|Alice| 30|\n",
      "|  4|  Bob| 25|\n",
      "+---+-----+---+\n",
      "\n"
     ]
    }
   ],
   "source": [
    "df.show()"
   ]
  },
  {
   "cell_type": "code",
   "execution_count": null,
   "id": "67e54aa7-5d8c-49a9-b0b7-8c8a24f189e6",
   "metadata": {},
   "outputs": [],
   "source": []
  }
 ],
 "metadata": {
  "kernelspec": {
   "display_name": "Python 3 (ipykernel)",
   "language": "python",
   "name": "python3"
  },
  "language_info": {
   "codemirror_mode": {
    "name": "ipython",
    "version": 3
   },
   "file_extension": ".py",
   "mimetype": "text/x-python",
   "name": "python",
   "nbconvert_exporter": "python",
   "pygments_lexer": "ipython3",
   "version": "3.7.17"
  }
 },
 "nbformat": 4,
 "nbformat_minor": 5
}
